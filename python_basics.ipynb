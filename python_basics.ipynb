{
  "nbformat": 4,
  "nbformat_minor": 0,
  "metadata": {
    "colab": {
      "name": "Expt1 .ipynb",
      "provenance": [],
      "authorship_tag": "ABX9TyN4uxwzafEnCmqQRj3TpvgA",
      "include_colab_link": true
    },
    "kernelspec": {
      "name": "python3",
      "display_name": "Python 3"
    }
  },
  "cells": [
    {
      "cell_type": "markdown",
      "metadata": {
        "id": "view-in-github",
        "colab_type": "text"
      },
      "source": [
        "<a href=\"https://colab.research.google.com/github/aaryan-sarawgi1/Basic-Web/blob/master/python_basics.ipynb\" target=\"_parent\"><img src=\"https://colab.research.google.com/assets/colab-badge.svg\" alt=\"Open In Colab\"/></a>"
      ]
    },
    {
      "cell_type": "code",
      "metadata": {
        "id": "1IFD2WHw2wgJ",
        "colab_type": "code",
        "outputId": "e5942974-9b1e-4a2f-866b-161ac195c39c",
        "colab": {
          "base_uri": "https://localhost:8080/",
          "height": 173
        }
      },
      "source": [
        "a=int(input(\"Enter first number\"))\n",
        "b=int(input(\"Enter second number\"))\n",
        "ch=int(input(\"Enter your choice\\n1.Add\\n2.Sub\\n3.Divide\\n4.Multiply\\n\"))\n",
        "def switch(ch):\n",
        "  switcher={1:(a+b),2:(a-b),3:(a/b),4:(a*b)}\n",
        "  print(switcher.get(ch,\"Invalid choice\"))\n",
        "switch(ch)\n"
      ],
      "execution_count": 0,
      "outputs": [
        {
          "output_type": "stream",
          "text": [
            "Enter first number12\n",
            "Enter second number25\n",
            "Enter your choice\n",
            "1.Add\n",
            "2.Sub\n",
            "3.Divide\n",
            "4.Multiply\n",
            "1\n",
            "37\n"
          ],
          "name": "stdout"
        }
      ]
    },
    {
      "cell_type": "code",
      "metadata": {
        "id": "6OCW7ZaWBTlA",
        "colab_type": "code",
        "outputId": "0b3fb2bc-b78f-4524-eb0d-08241efe6a00",
        "colab": {
          "base_uri": "https://localhost:8080/",
          "height": 104
        }
      },
      "source": [
        "ch=int(input(\"Enter your choice1.Number\\n2.String\\n\"))\n",
        "if(ch==1):\n",
        "  num=int(input(\"Enter a number\"))\n",
        "  temp=num\n",
        "  s=0\n",
        "  while temp!=0:\n",
        "    r=temp%10\n",
        "    s=s*10+r\n",
        "    temp=temp//10\n",
        "  if num==s:\n",
        "    print(\"Palindrome\")\n",
        "  else:\n",
        "    print(\"Not Palindrome\")\n",
        "elif(ch==2):\n",
        "  s=input(\"Enter a string\")\n",
        "  if(s == s[::-1]):\n",
        "    print(\"Palindrome\")\n",
        "  else:\n",
        "    print(\"Not Palindrome\")\n",
        "else:\n",
        "  print(lambda:\"Invalid choice\")\n"
      ],
      "execution_count": 0,
      "outputs": [
        {
          "output_type": "stream",
          "text": [
            "Enter your choice1.Number\n",
            "2.String\n",
            "2\n",
            "Enter a stringmom\n",
            "Palindrome\n"
          ],
          "name": "stdout"
        }
      ]
    },
    {
      "cell_type": "code",
      "metadata": {
        "id": "8gnFZ8GoMbuw",
        "colab_type": "code",
        "outputId": "50f58a65-ffef-4e52-9864-79d43722e870",
        "colab": {
          "base_uri": "https://localhost:8080/",
          "height": 139
        }
      },
      "source": [
        "li=[\"apple\",\"mango\",\"banana\"]\n",
        "tup=[\"apple\",\"mango\",\"banana\"]\n",
        "set1=[\"apple\",\"mango\",\"banana\"]\n",
        "dict1={\"fruit1\":\"apple\",\"fruit2\":\"mango\",\"fruit3\":\"banana\"}\n",
        "ch=int(input(\"Enter your choice1.List\\n.2.Tuple\\n3.Set\\n4.Dictionary\"))\n",
        "str=input(\"Enter the string to be added\")\n",
        "\n",
        "if ch==1:\n",
        "  print(f\"The old list is {li}\")\n",
        "  li.append(str)\n",
        "  print(f\"The list is {li}\")\n",
        "elif(ch==2):\n",
        "  print(f\"The old tuple is {li}\")\n",
        "  tup.append(str)\n",
        "  print(f\"The tuple is {tup}\")\n",
        "elif(ch==3):\n",
        "  print(f\"The old set is {li}\")\n",
        "\n",
        "  set1.update(li)\n",
        "  print(f\"The set is {set1}\")\n",
        "else:\n",
        "  print(f\"The dictionary is {dict1}\")\n",
        "  dic1.update([\"mango1\",\"mango2\"])\n",
        "\n",
        "  print(f\"The  new dictionary is {dict1}\")\n"
      ],
      "execution_count": 0,
      "outputs": [
        {
          "output_type": "stream",
          "text": [
            "Enter your choice1.List\n",
            ".2.Tuple\n",
            "3.Set\n",
            "4.Dictionary1\n",
            "Enter the string to be addedghshj\n",
            "The old list is ['apple', 'mango', 'banana']\n",
            "The list is ['apple', 'mango', 'banana', 'ghshj']\n"
          ],
          "name": "stdout"
        }
      ]
    },
    {
      "cell_type": "code",
      "metadata": {
        "id": "w2sXpMheztYz",
        "colab_type": "code",
        "outputId": "7c382cfa-b724-44cf-daa7-6cb384ae06f2",
        "colab": {
          "base_uri": "https://localhost:8080/",
          "height": 52
        }
      },
      "source": [
        "n=int(input(\"Enter the number\"))\n",
        "print(\"The binary number is\",format(n,'b'))"
      ],
      "execution_count": 0,
      "outputs": [
        {
          "output_type": "stream",
          "text": [
            "Enter the number10\n",
            "The binary number is 1010\n"
          ],
          "name": "stdout"
        }
      ]
    }
  ]
}